{
 "cells": [
  {
   "cell_type": "code",
   "execution_count": 1,
   "id": "3e3e9104",
   "metadata": {},
   "outputs": [],
   "source": [
    "import pandas as pd"
   ]
  },
  {
   "cell_type": "code",
   "execution_count": 3,
   "id": "5271e4b0",
   "metadata": {},
   "outputs": [],
   "source": [
    "dados = {'Nome': ['Anderson', 'Beatriz', 'Bruno', 'Cristiano', 'Daniel', 'Douglas', 'Elena', 'Fabricio', 'Gabriel', \n",
    "                 'Janaina', 'Luiz', 'Marcos', 'Nadia', 'Oswaldo', 'Patricia', 'Ricardo'],\n",
    "        'Idade': [24, 33, 45, 29, 26, 40, 31, 42, 50, 22, 32, 22, 36, 68, 22, 38],\n",
    "        'Cidade': ['Santos', 'Atibaia', 'Guarulhos', 'Atibaia', 'Santos', 'Guarulhos', 'Guarulhos', 'Atibaia', \n",
    "                   'Guarulhos', 'Guarulhos', 'Atibaia', 'Guarulhos', 'Santos', 'Guarulhos', 'Guarulhos', 'Santos'],\n",
    "        'Registro': [32123, 45828, 34985, 11985, 32123, 99348, 48729, 24894, 12948, 89543, 65489, 56821, 65938, 12956,\n",
    "                     75439, 45392],\n",
    "        'Departamento': ['RH', 'PD', 'PD', 'ADM', 'ADM', 'RH', 'PD', 'ADM', 'PD', 'ADM', 'PD', 'ADM', 'PD', 'RH', 'ADM',\n",
    "                         'PD'],\n",
    "        'Formação': ['Graduação', 'Mestrado', 'Graduação', 'Técnico', 'Graduação', 'Técnico', 'Graduação', 'Técnico', \n",
    "                     'Mestrado', 'Graduação', 'Técnico', 'Graduação', 'Graduação', 'Graduação', 'Graduação', 'Mestrado']\n",
    "        }"
   ]
  },
  {
   "cell_type": "code",
   "execution_count": 4,
   "id": "6ff7cd89",
   "metadata": {},
   "outputs": [],
   "source": [
    "dafra = pd.DataFrame(dados)"
   ]
  },
  {
   "cell_type": "markdown",
   "id": "6119e4e3",
   "metadata": {},
   "source": [
    "# Group by \n",
    "- cidade dos funcionarios\n",
    "- formacao dos funcionarios\n",
    "- departamento dos funcionarios\n",
    "- cidade e o departamento dos funcionarios\n",
    "- departamento e a formacao dos funcionarios"
   ]
  },
  {
   "cell_type": "markdown",
   "id": "b3329f2e",
   "metadata": {},
   "source": [
    "## Cidade dos Funcionarios"
   ]
  },
  {
   "cell_type": "code",
   "execution_count": 5,
   "id": "a7892374",
   "metadata": {},
   "outputs": [
    {
     "name": "stdout",
     "output_type": "stream",
     "text": [
      "{'Atibaia': [1, 3, 7, 10], 'Guarulhos': [2, 5, 6, 8, 9, 11, 13, 14], 'Santos': [0, 4, 12, 15]}\n"
     ]
    }
   ],
   "source": [
    "print(dafra.groupby('Cidade').groups)"
   ]
  },
  {
   "cell_type": "code",
   "execution_count": 12,
   "id": "39f71c9c",
   "metadata": {},
   "outputs": [],
   "source": [
    "grupo1 =  dafra.groupby('Cidade')"
   ]
  },
  {
   "cell_type": "code",
   "execution_count": 13,
   "id": "9603b2b9",
   "metadata": {},
   "outputs": [
    {
     "data": {
      "text/html": [
       "<div>\n",
       "<style scoped>\n",
       "    .dataframe tbody tr th:only-of-type {\n",
       "        vertical-align: middle;\n",
       "    }\n",
       "\n",
       "    .dataframe tbody tr th {\n",
       "        vertical-align: top;\n",
       "    }\n",
       "\n",
       "    .dataframe thead th {\n",
       "        text-align: right;\n",
       "    }\n",
       "</style>\n",
       "<table border=\"1\" class=\"dataframe\">\n",
       "  <thead>\n",
       "    <tr style=\"text-align: right;\">\n",
       "      <th></th>\n",
       "      <th>Nome</th>\n",
       "      <th>Idade</th>\n",
       "      <th>Registro</th>\n",
       "      <th>Departamento</th>\n",
       "      <th>Formação</th>\n",
       "    </tr>\n",
       "    <tr>\n",
       "      <th>Cidade</th>\n",
       "      <th></th>\n",
       "      <th></th>\n",
       "      <th></th>\n",
       "      <th></th>\n",
       "      <th></th>\n",
       "    </tr>\n",
       "  </thead>\n",
       "  <tbody>\n",
       "    <tr>\n",
       "      <th>Atibaia</th>\n",
       "      <td>Beatriz</td>\n",
       "      <td>33</td>\n",
       "      <td>45828</td>\n",
       "      <td>PD</td>\n",
       "      <td>Mestrado</td>\n",
       "    </tr>\n",
       "    <tr>\n",
       "      <th>Guarulhos</th>\n",
       "      <td>Bruno</td>\n",
       "      <td>45</td>\n",
       "      <td>34985</td>\n",
       "      <td>PD</td>\n",
       "      <td>Graduação</td>\n",
       "    </tr>\n",
       "    <tr>\n",
       "      <th>Santos</th>\n",
       "      <td>Anderson</td>\n",
       "      <td>24</td>\n",
       "      <td>32123</td>\n",
       "      <td>RH</td>\n",
       "      <td>Graduação</td>\n",
       "    </tr>\n",
       "  </tbody>\n",
       "</table>\n",
       "</div>"
      ],
      "text/plain": [
       "               Nome  Idade  Registro Departamento   Formação\n",
       "Cidade                                                      \n",
       "Atibaia     Beatriz     33     45828           PD   Mestrado\n",
       "Guarulhos     Bruno     45     34985           PD  Graduação\n",
       "Santos     Anderson     24     32123           RH  Graduação"
      ]
     },
     "execution_count": 13,
     "metadata": {},
     "output_type": "execute_result"
    }
   ],
   "source": [
    "grupo1.first()"
   ]
  },
  {
   "cell_type": "markdown",
   "id": "1195fc0e",
   "metadata": {},
   "source": [
    "## Formação dos Funcionarios"
   ]
  },
  {
   "cell_type": "code",
   "execution_count": 14,
   "id": "cd5ea604",
   "metadata": {},
   "outputs": [
    {
     "name": "stdout",
     "output_type": "stream",
     "text": [
      "{'Graduação': [0, 2, 4, 6, 9, 11, 12, 13, 14], 'Mestrado': [1, 8, 15], 'Técnico': [3, 5, 7, 10]}\n"
     ]
    }
   ],
   "source": [
    "print(dafra.groupby('Formação').groups)"
   ]
  },
  {
   "cell_type": "code",
   "execution_count": 15,
   "id": "6d45134c",
   "metadata": {},
   "outputs": [],
   "source": [
    "grupo2 =  dafra.groupby('Formação')"
   ]
  },
  {
   "cell_type": "code",
   "execution_count": 16,
   "id": "2d8706dc",
   "metadata": {},
   "outputs": [
    {
     "data": {
      "text/html": [
       "<div>\n",
       "<style scoped>\n",
       "    .dataframe tbody tr th:only-of-type {\n",
       "        vertical-align: middle;\n",
       "    }\n",
       "\n",
       "    .dataframe tbody tr th {\n",
       "        vertical-align: top;\n",
       "    }\n",
       "\n",
       "    .dataframe thead th {\n",
       "        text-align: right;\n",
       "    }\n",
       "</style>\n",
       "<table border=\"1\" class=\"dataframe\">\n",
       "  <thead>\n",
       "    <tr style=\"text-align: right;\">\n",
       "      <th></th>\n",
       "      <th>Nome</th>\n",
       "      <th>Idade</th>\n",
       "      <th>Cidade</th>\n",
       "      <th>Registro</th>\n",
       "      <th>Departamento</th>\n",
       "    </tr>\n",
       "    <tr>\n",
       "      <th>Formação</th>\n",
       "      <th></th>\n",
       "      <th></th>\n",
       "      <th></th>\n",
       "      <th></th>\n",
       "      <th></th>\n",
       "    </tr>\n",
       "  </thead>\n",
       "  <tbody>\n",
       "    <tr>\n",
       "      <th>Graduação</th>\n",
       "      <td>Anderson</td>\n",
       "      <td>24</td>\n",
       "      <td>Santos</td>\n",
       "      <td>32123</td>\n",
       "      <td>RH</td>\n",
       "    </tr>\n",
       "    <tr>\n",
       "      <th>Mestrado</th>\n",
       "      <td>Beatriz</td>\n",
       "      <td>33</td>\n",
       "      <td>Atibaia</td>\n",
       "      <td>45828</td>\n",
       "      <td>PD</td>\n",
       "    </tr>\n",
       "    <tr>\n",
       "      <th>Técnico</th>\n",
       "      <td>Cristiano</td>\n",
       "      <td>29</td>\n",
       "      <td>Atibaia</td>\n",
       "      <td>11985</td>\n",
       "      <td>ADM</td>\n",
       "    </tr>\n",
       "  </tbody>\n",
       "</table>\n",
       "</div>"
      ],
      "text/plain": [
       "                Nome  Idade   Cidade  Registro Departamento\n",
       "Formação                                                   \n",
       "Graduação   Anderson     24   Santos     32123           RH\n",
       "Mestrado     Beatriz     33  Atibaia     45828           PD\n",
       "Técnico    Cristiano     29  Atibaia     11985          ADM"
      ]
     },
     "execution_count": 16,
     "metadata": {},
     "output_type": "execute_result"
    }
   ],
   "source": [
    "grupo2.first()"
   ]
  },
  {
   "cell_type": "markdown",
   "id": "dd819567",
   "metadata": {},
   "source": [
    "## Departamento dos funcionários"
   ]
  },
  {
   "cell_type": "code",
   "execution_count": 17,
   "id": "3a99c12e",
   "metadata": {},
   "outputs": [
    {
     "name": "stdout",
     "output_type": "stream",
     "text": [
      "{'ADM': [3, 4, 7, 9, 11, 14], 'PD': [1, 2, 6, 8, 10, 12, 15], 'RH': [0, 5, 13]}\n"
     ]
    }
   ],
   "source": [
    "print(dafra.groupby('Departamento').groups)"
   ]
  },
  {
   "cell_type": "code",
   "execution_count": 20,
   "id": "3a4aa8ef",
   "metadata": {},
   "outputs": [],
   "source": [
    "grupo3 =  dafra.groupby('Departamento')"
   ]
  },
  {
   "cell_type": "code",
   "execution_count": 19,
   "id": "43e24131",
   "metadata": {},
   "outputs": [
    {
     "data": {
      "text/html": [
       "<div>\n",
       "<style scoped>\n",
       "    .dataframe tbody tr th:only-of-type {\n",
       "        vertical-align: middle;\n",
       "    }\n",
       "\n",
       "    .dataframe tbody tr th {\n",
       "        vertical-align: top;\n",
       "    }\n",
       "\n",
       "    .dataframe thead th {\n",
       "        text-align: right;\n",
       "    }\n",
       "</style>\n",
       "<table border=\"1\" class=\"dataframe\">\n",
       "  <thead>\n",
       "    <tr style=\"text-align: right;\">\n",
       "      <th></th>\n",
       "      <th>Nome</th>\n",
       "      <th>Idade</th>\n",
       "      <th>Cidade</th>\n",
       "      <th>Registro</th>\n",
       "      <th>Departamento</th>\n",
       "    </tr>\n",
       "    <tr>\n",
       "      <th>Formação</th>\n",
       "      <th></th>\n",
       "      <th></th>\n",
       "      <th></th>\n",
       "      <th></th>\n",
       "      <th></th>\n",
       "    </tr>\n",
       "  </thead>\n",
       "  <tbody>\n",
       "    <tr>\n",
       "      <th>Graduação</th>\n",
       "      <td>Anderson</td>\n",
       "      <td>24</td>\n",
       "      <td>Santos</td>\n",
       "      <td>32123</td>\n",
       "      <td>RH</td>\n",
       "    </tr>\n",
       "    <tr>\n",
       "      <th>Mestrado</th>\n",
       "      <td>Beatriz</td>\n",
       "      <td>33</td>\n",
       "      <td>Atibaia</td>\n",
       "      <td>45828</td>\n",
       "      <td>PD</td>\n",
       "    </tr>\n",
       "    <tr>\n",
       "      <th>Técnico</th>\n",
       "      <td>Cristiano</td>\n",
       "      <td>29</td>\n",
       "      <td>Atibaia</td>\n",
       "      <td>11985</td>\n",
       "      <td>ADM</td>\n",
       "    </tr>\n",
       "  </tbody>\n",
       "</table>\n",
       "</div>"
      ],
      "text/plain": [
       "                Nome  Idade   Cidade  Registro Departamento\n",
       "Formação                                                   \n",
       "Graduação   Anderson     24   Santos     32123           RH\n",
       "Mestrado     Beatriz     33  Atibaia     45828           PD\n",
       "Técnico    Cristiano     29  Atibaia     11985          ADM"
      ]
     },
     "execution_count": 19,
     "metadata": {},
     "output_type": "execute_result"
    }
   ],
   "source": [
    "grupo3.first()"
   ]
  },
  {
   "cell_type": "markdown",
   "id": "aa14d659",
   "metadata": {},
   "source": [
    "## Cidade e o departamento dos funcionarios \n"
   ]
  },
  {
   "cell_type": "code",
   "execution_count": 22,
   "id": "6354e29e",
   "metadata": {},
   "outputs": [
    {
     "name": "stdout",
     "output_type": "stream",
     "text": [
      "{('Atibaia', 'ADM'): [3, 7], ('Atibaia', 'PD'): [1, 10], ('Guarulhos', 'ADM'): [9, 11, 14], ('Guarulhos', 'PD'): [2, 6, 8], ('Guarulhos', 'RH'): [5, 13], ('Santos', 'ADM'): [4], ('Santos', 'PD'): [12, 15], ('Santos', 'RH'): [0]}\n"
     ]
    }
   ],
   "source": [
    "print(dafra.groupby(['Cidade', 'Departamento']).groups)"
   ]
  },
  {
   "cell_type": "code",
   "execution_count": 23,
   "id": "2c363f3e",
   "metadata": {},
   "outputs": [],
   "source": [
    "grupo4 = dafra.groupby(['Cidade', 'Departamento'])"
   ]
  },
  {
   "cell_type": "code",
   "execution_count": 24,
   "id": "662a4453",
   "metadata": {},
   "outputs": [
    {
     "data": {
      "text/html": [
       "<div>\n",
       "<style scoped>\n",
       "    .dataframe tbody tr th:only-of-type {\n",
       "        vertical-align: middle;\n",
       "    }\n",
       "\n",
       "    .dataframe tbody tr th {\n",
       "        vertical-align: top;\n",
       "    }\n",
       "\n",
       "    .dataframe thead th {\n",
       "        text-align: right;\n",
       "    }\n",
       "</style>\n",
       "<table border=\"1\" class=\"dataframe\">\n",
       "  <thead>\n",
       "    <tr style=\"text-align: right;\">\n",
       "      <th></th>\n",
       "      <th></th>\n",
       "      <th>Nome</th>\n",
       "      <th>Idade</th>\n",
       "      <th>Registro</th>\n",
       "      <th>Formação</th>\n",
       "    </tr>\n",
       "    <tr>\n",
       "      <th>Cidade</th>\n",
       "      <th>Departamento</th>\n",
       "      <th></th>\n",
       "      <th></th>\n",
       "      <th></th>\n",
       "      <th></th>\n",
       "    </tr>\n",
       "  </thead>\n",
       "  <tbody>\n",
       "    <tr>\n",
       "      <th rowspan=\"2\" valign=\"top\">Atibaia</th>\n",
       "      <th>ADM</th>\n",
       "      <td>Cristiano</td>\n",
       "      <td>29</td>\n",
       "      <td>11985</td>\n",
       "      <td>Técnico</td>\n",
       "    </tr>\n",
       "    <tr>\n",
       "      <th>PD</th>\n",
       "      <td>Beatriz</td>\n",
       "      <td>33</td>\n",
       "      <td>45828</td>\n",
       "      <td>Mestrado</td>\n",
       "    </tr>\n",
       "    <tr>\n",
       "      <th rowspan=\"3\" valign=\"top\">Guarulhos</th>\n",
       "      <th>ADM</th>\n",
       "      <td>Janaina</td>\n",
       "      <td>22</td>\n",
       "      <td>89543</td>\n",
       "      <td>Graduação</td>\n",
       "    </tr>\n",
       "    <tr>\n",
       "      <th>PD</th>\n",
       "      <td>Bruno</td>\n",
       "      <td>45</td>\n",
       "      <td>34985</td>\n",
       "      <td>Graduação</td>\n",
       "    </tr>\n",
       "    <tr>\n",
       "      <th>RH</th>\n",
       "      <td>Douglas</td>\n",
       "      <td>40</td>\n",
       "      <td>99348</td>\n",
       "      <td>Técnico</td>\n",
       "    </tr>\n",
       "    <tr>\n",
       "      <th rowspan=\"3\" valign=\"top\">Santos</th>\n",
       "      <th>ADM</th>\n",
       "      <td>Daniel</td>\n",
       "      <td>26</td>\n",
       "      <td>32123</td>\n",
       "      <td>Graduação</td>\n",
       "    </tr>\n",
       "    <tr>\n",
       "      <th>PD</th>\n",
       "      <td>Nadia</td>\n",
       "      <td>36</td>\n",
       "      <td>65938</td>\n",
       "      <td>Graduação</td>\n",
       "    </tr>\n",
       "    <tr>\n",
       "      <th>RH</th>\n",
       "      <td>Anderson</td>\n",
       "      <td>24</td>\n",
       "      <td>32123</td>\n",
       "      <td>Graduação</td>\n",
       "    </tr>\n",
       "  </tbody>\n",
       "</table>\n",
       "</div>"
      ],
      "text/plain": [
       "                             Nome  Idade  Registro   Formação\n",
       "Cidade    Departamento                                       \n",
       "Atibaia   ADM           Cristiano     29     11985    Técnico\n",
       "          PD              Beatriz     33     45828   Mestrado\n",
       "Guarulhos ADM             Janaina     22     89543  Graduação\n",
       "          PD                Bruno     45     34985  Graduação\n",
       "          RH              Douglas     40     99348    Técnico\n",
       "Santos    ADM              Daniel     26     32123  Graduação\n",
       "          PD                Nadia     36     65938  Graduação\n",
       "          RH             Anderson     24     32123  Graduação"
      ]
     },
     "execution_count": 24,
     "metadata": {},
     "output_type": "execute_result"
    }
   ],
   "source": [
    "grupo4.first()"
   ]
  },
  {
   "cell_type": "markdown",
   "id": "f60b78b8",
   "metadata": {},
   "source": [
    "## Departamento e formação dos funcionarios"
   ]
  },
  {
   "cell_type": "code",
   "execution_count": 25,
   "id": "85cee6c4",
   "metadata": {},
   "outputs": [
    {
     "name": "stdout",
     "output_type": "stream",
     "text": [
      "{('ADM', 'Graduação'): [4, 9, 11, 14], ('ADM', 'Técnico'): [3, 7], ('PD', 'Graduação'): [2, 6, 12], ('PD', 'Mestrado'): [1, 8, 15], ('PD', 'Técnico'): [10], ('RH', 'Graduação'): [0, 13], ('RH', 'Técnico'): [5]}\n"
     ]
    }
   ],
   "source": [
    "print(dafra.groupby(['Departamento', 'Formação']).groups)"
   ]
  },
  {
   "cell_type": "code",
   "execution_count": 26,
   "id": "8203c468",
   "metadata": {},
   "outputs": [],
   "source": [
    "grupo5 = dafra.groupby(['Departamento', 'Formação'])"
   ]
  },
  {
   "cell_type": "code",
   "execution_count": 27,
   "id": "682bc84f",
   "metadata": {},
   "outputs": [
    {
     "data": {
      "text/html": [
       "<div>\n",
       "<style scoped>\n",
       "    .dataframe tbody tr th:only-of-type {\n",
       "        vertical-align: middle;\n",
       "    }\n",
       "\n",
       "    .dataframe tbody tr th {\n",
       "        vertical-align: top;\n",
       "    }\n",
       "\n",
       "    .dataframe thead th {\n",
       "        text-align: right;\n",
       "    }\n",
       "</style>\n",
       "<table border=\"1\" class=\"dataframe\">\n",
       "  <thead>\n",
       "    <tr style=\"text-align: right;\">\n",
       "      <th></th>\n",
       "      <th></th>\n",
       "      <th>Nome</th>\n",
       "      <th>Idade</th>\n",
       "      <th>Cidade</th>\n",
       "      <th>Registro</th>\n",
       "    </tr>\n",
       "    <tr>\n",
       "      <th>Departamento</th>\n",
       "      <th>Formação</th>\n",
       "      <th></th>\n",
       "      <th></th>\n",
       "      <th></th>\n",
       "      <th></th>\n",
       "    </tr>\n",
       "  </thead>\n",
       "  <tbody>\n",
       "    <tr>\n",
       "      <th rowspan=\"2\" valign=\"top\">ADM</th>\n",
       "      <th>Graduação</th>\n",
       "      <td>Daniel</td>\n",
       "      <td>26</td>\n",
       "      <td>Santos</td>\n",
       "      <td>32123</td>\n",
       "    </tr>\n",
       "    <tr>\n",
       "      <th>Técnico</th>\n",
       "      <td>Cristiano</td>\n",
       "      <td>29</td>\n",
       "      <td>Atibaia</td>\n",
       "      <td>11985</td>\n",
       "    </tr>\n",
       "    <tr>\n",
       "      <th rowspan=\"3\" valign=\"top\">PD</th>\n",
       "      <th>Graduação</th>\n",
       "      <td>Bruno</td>\n",
       "      <td>45</td>\n",
       "      <td>Guarulhos</td>\n",
       "      <td>34985</td>\n",
       "    </tr>\n",
       "    <tr>\n",
       "      <th>Mestrado</th>\n",
       "      <td>Beatriz</td>\n",
       "      <td>33</td>\n",
       "      <td>Atibaia</td>\n",
       "      <td>45828</td>\n",
       "    </tr>\n",
       "    <tr>\n",
       "      <th>Técnico</th>\n",
       "      <td>Luiz</td>\n",
       "      <td>32</td>\n",
       "      <td>Atibaia</td>\n",
       "      <td>65489</td>\n",
       "    </tr>\n",
       "    <tr>\n",
       "      <th rowspan=\"2\" valign=\"top\">RH</th>\n",
       "      <th>Graduação</th>\n",
       "      <td>Anderson</td>\n",
       "      <td>24</td>\n",
       "      <td>Santos</td>\n",
       "      <td>32123</td>\n",
       "    </tr>\n",
       "    <tr>\n",
       "      <th>Técnico</th>\n",
       "      <td>Douglas</td>\n",
       "      <td>40</td>\n",
       "      <td>Guarulhos</td>\n",
       "      <td>99348</td>\n",
       "    </tr>\n",
       "  </tbody>\n",
       "</table>\n",
       "</div>"
      ],
      "text/plain": [
       "                             Nome  Idade     Cidade  Registro\n",
       "Departamento Formação                                        \n",
       "ADM          Graduação     Daniel     26     Santos     32123\n",
       "             Técnico    Cristiano     29    Atibaia     11985\n",
       "PD           Graduação      Bruno     45  Guarulhos     34985\n",
       "             Mestrado     Beatriz     33    Atibaia     45828\n",
       "             Técnico         Luiz     32    Atibaia     65489\n",
       "RH           Graduação   Anderson     24     Santos     32123\n",
       "             Técnico      Douglas     40  Guarulhos     99348"
      ]
     },
     "execution_count": 27,
     "metadata": {},
     "output_type": "execute_result"
    }
   ],
   "source": [
    "grupo5.first()"
   ]
  },
  {
   "cell_type": "code",
   "execution_count": null,
   "id": "170f5c94",
   "metadata": {},
   "outputs": [],
   "source": []
  }
 ],
 "metadata": {
  "kernelspec": {
   "display_name": "Python 3 (ipykernel)",
   "language": "python",
   "name": "python3"
  },
  "language_info": {
   "codemirror_mode": {
    "name": "ipython",
    "version": 3
   },
   "file_extension": ".py",
   "mimetype": "text/x-python",
   "name": "python",
   "nbconvert_exporter": "python",
   "pygments_lexer": "ipython3",
   "version": "3.9.13"
  }
 },
 "nbformat": 4,
 "nbformat_minor": 5
}
